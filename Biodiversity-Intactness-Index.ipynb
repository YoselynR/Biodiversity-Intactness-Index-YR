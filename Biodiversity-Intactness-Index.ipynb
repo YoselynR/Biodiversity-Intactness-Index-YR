{
 "cells": [
  {
   "cell_type": "code",
   "execution_count": 43,
   "id": "86be0a52-2f1f-43bd-881e-c6c36508ecb2",
   "metadata": {
    "tags": []
   },
   "outputs": [],
   "source": [
    "import geopandas as gpd\n",
    "import rasterio\n",
    "import numpy as np\n",
    "import matplotlib.pyplot as plt\n",
    "import contextily as ctx\n",
    "from rasterio.mask import mask\n",
    "from shapely.geometry import mapping\n"
   ]
  },
  {
   "cell_type": "code",
   "execution_count": 45,
   "id": "bc3cd849-0809-4f97-ae75-d4fd474157cc",
   "metadata": {
    "tags": []
   },
   "outputs": [],
   "source": [
    "# Load the Phoenix subdivision shapefile\n",
    "phoenix_shapefile = gpd.read_file(\"data/phoenix_subdivision.shp\")\n",
    "\n",
    "# Load the BII rasters (2017 and 2020)\n",
    "bii_2017_path = \"data/bii_2017_34.74464974521749_-115.38597824385106_cog.tif\"\n",
    "bii_2020_path = \"data/bii_2020_34.74464974521749_-115.38597824385106_cog.tif\"\n",
    "\n",
    "# Open the 2017 BII raster\n",
    "with rasterio.open(bii_2017_path) as src_2017:\n",
    "    bii_2017_data = src_2017.read(1)  # Read the first band \n",
    "    bii_2017_meta = src_2017.meta  # Metadata for the raster\n",
    "\n",
    "# Open the 2020 BII raster\n",
    "with rasterio.open(bii_2020_path) as src_2020:\n",
    "    bii_2020_data = src_2020.read(1)\n",
    "    bii_2020_meta = src_2020.meta\n"
   ]
  },
  {
   "cell_type": "code",
   "execution_count": 73,
   "id": "e7069204-b3e6-48b8-b140-1fb116a3b132",
   "metadata": {
    "tags": []
   },
   "outputs": [
    {
     "name": "stdout",
     "output_type": "stream",
     "text": [
      "CRS of 2017 BII raster: EPSG:4326\n",
      "CRS of 2017 BII raster: EPSG:4326\n"
     ]
    }
   ],
   "source": [
    "# Open the raster file \n",
    "with rasterio.open(bii_2017_path) as src:\n",
    "    raster_crs = src.crs  # Get CRS from the raster file\n",
    "    print(f\"CRS of 2017 BII raster: {raster_crs}\")\n",
    "with rasterio.open(bii_2020_path) as src:\n",
    "    raster_crs = src.crs  # Get CRS from the raster file\n",
    "    print(f\"CRS of 2017 BII raster: {raster_crs}\")"
   ]
  },
  {
   "cell_type": "code",
   "execution_count": 74,
   "id": "9b8511e7-8d70-4d47-9cfa-0f5da8a8b28f",
   "metadata": {
    "tags": []
   },
   "outputs": [
    {
     "name": "stdout",
     "output_type": "stream",
     "text": [
      "CRS of Phoenix shapefile: EPSG:4326\n"
     ]
    }
   ],
   "source": [
    "shapefile_crs = phoenix_shapefile.crs\n",
    "print(f\"CRS of Phoenix shapefile: {shapefile_crs}\")\n",
    "\n",
    "# Reproject shapefile CRS to match raster CRS (EPSG:4326)\n",
    "if shapefile_crs != 'EPSG:4326':\n",
    "    phoenix_shapefile = phoenix_shapefile.to_crs(epsg=4326)\n",
    "    print(f\"Reprojected shapefile CRS to: EPSG:4326\")"
   ]
  },
  {
   "cell_type": "code",
   "execution_count": 69,
   "id": "b79b7bef-b43f-4a3a-928c-374b5c90e256",
   "metadata": {
    "tags": []
   },
   "outputs": [],
   "source": [
    "# Convert Phoenix shapefile geometry to mask format\n",
    "phoenix_geometry = phoenix_shapefile.geometry.values[0]\n",
    "\n",
    "# Clip the BII data for both 2017 and 2020 rasters\n",
    "def clip_raster_with_shapefile(raster_data, raster_meta, geometry):\n",
    "    with rasterio.open(raster_data) as src:\n",
    "        out_image, out_transform = mask(src, [mapping(geometry)], crop=True)\n",
    "        out_meta = src.meta\n",
    "    return out_image[0], out_transform, out_meta\n",
    "\n",
    "bii_2017_clipped, transform_2017, meta_2017 = clip_raster_with_shapefile(bii_2017_path, bii_2017_meta, phoenix_geometry)\n",
    "bii_2020_clipped, transform_2020, meta_2020 = clip_raster_with_shapefile(bii_2020_path, bii_2020_meta, phoenix_geometry)\n"
   ]
  },
  {
   "cell_type": "code",
   "execution_count": 70,
   "id": "dd865a74-d751-4594-84c0-7395f2aac20d",
   "metadata": {
    "tags": []
   },
   "outputs": [],
   "source": [
    "# Create a mask for BII ≥ 0.75 for both years\n",
    "bii_2017_mask = bii_2017_clipped >= 0.75\n",
    "bii_2020_mask = bii_2020_clipped >= 0.75\n"
   ]
  },
  {
   "cell_type": "code",
   "execution_count": 71,
   "id": "45514e84-4943-4add-99d3-6ad8b591834d",
   "metadata": {
    "tags": []
   },
   "outputs": [
    {
     "name": "stdout",
     "output_type": "stream",
     "text": [
      "Percentage of Phoenix area with BII ≥ 0.75 in 2017: 4.17%\n",
      "Percentage of Phoenix area with BII ≥ 0.75 in 2020: 3.80%\n"
     ]
    }
   ],
   "source": [
    "# Define the resolution (in square meters) based on raster metadata\n",
    "pixel_area = abs(meta_2017['transform'][0] * meta_2017['transform'][4])  # resolution * resolution\n",
    "\n",
    "# Calculate the total area of the Phoenix subdivision\n",
    "total_area = bii_2017_mask.size * pixel_area\n",
    "\n",
    "# Calculate the area with BII >= 0.75 for both years\n",
    "area_bii_2017 = np.sum(bii_2017_mask) * pixel_area\n",
    "area_bii_2020 = np.sum(bii_2020_mask) * pixel_area\n",
    "\n",
    "# Calculate the percentage\n",
    "percentage_bii_2017 = (area_bii_2017 / total_area) * 100\n",
    "percentage_bii_2020 = (area_bii_2020 / total_area) * 100\n",
    "\n",
    "print(f\"Percentage of Phoenix area with BII ≥ 0.75 in 2017: {percentage_bii_2017:.2f}%\")\n",
    "print(f\"Percentage of Phoenix area with BII ≥ 0.75 in 2020: {percentage_bii_2020:.2f}%\")\n"
   ]
  },
  {
   "cell_type": "code",
   "execution_count": 72,
   "id": "d496c90d-4803-411b-9737-f6e1adbd9ae9",
   "metadata": {
    "tags": []
   },
   "outputs": [
    {
     "data": {
      "text/plain": [
       "(-0.5, 991.5, 583.5, -0.5)"
      ]
     },
     "execution_count": 72,
     "metadata": {},
     "output_type": "execute_result"
    },
    {
     "data": {
      "image/png": "[encoded data removed]",
      "text/plain": [
       "<Figure size 1000x800 with 2 Axes>"
      ]
     },
     "metadata": {},
     "output_type": "display_data"
    }
   ],
   "source": [
    "# Identify areas with BII ≥ 0.75 in 2017 that have lost that condition by 2020\n",
    "bii_loss = (bii_2017_mask == 1) & (bii_2020_mask == 0)\n",
    "\n",
    "# Plot the result\n",
    "plt.figure(figsize=(10, 8))\n",
    "plt.imshow(bii_loss, cmap='Greens', interpolation='nearest')\n",
    "plt.title(\"Area with BII ≥ 0.75 in 2017 Lost by 2020\")\n",
    "plt.colorbar(label=\"Loss of BII ≥ 0.75\")\n",
    "plt.axis('off')\n"
   ]
  }
 ],
 "metadata": {
  "kernelspec": {
   "display_name": "Anaconda 3 (EDS220)",
   "language": "python",
   "name": "eds220-env"
  },
  "language_info": {
   "codemirror_mode": {
    "name": "ipython",
    "version": 3
   },
   "file_extension": ".py",
   "mimetype": "text/x-python",
   "name": "python",
   "nbconvert_exporter": "python",
   "pygments_lexer": "ipython3",
   "version": "3.11.4"
  }
 },
 "nbformat": 4,
 "nbformat_minor": 5
}
